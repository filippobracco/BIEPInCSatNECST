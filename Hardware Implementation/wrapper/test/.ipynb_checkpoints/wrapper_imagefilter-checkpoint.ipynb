{
 "cells": [
  {
   "cell_type": "code",
   "execution_count": 2,
   "metadata": {
    "collapsed": false,
    "deletable": true,
    "editable": true
   },
   "outputs": [],
   "source": [
    "import numpy as np\n",
    "from pynq import Overlay\n",
    "ol = Overlay(\"biepincs.bit\")\n",
    "ol.download()\n",
    "ol.bitstream.timestamp\n",
    "from pynq.drivers import DMA\n",
    "import numpy as np\n",
    "from cffi import FFI\n",
    "ffi = FFI()\n",
    "W = 50\n",
    "CH = 3\n",
    "dmaOut = DMA(0x40400000,1)\n",
    "dmaIn = DMA(0x40400000,0)\n",
    "dmaIn.create_buf(W*W*CH)\n",
    "dmaOut.create_buf(W*W)\n",
    "pointIn = ffi.cast(\"uint8_t *\", dmaIn.get_buf())\n",
    "pointOut = ffi.cast(\"uint8_t *\", dmaOut.get_buf())\n",
    "c_buffer = ffi.buffer(pointOut, W*W)\n",
    "def image_filter(th, image):\n",
    "    pointIn[0] = th\n",
    "    image = img.copy()\n",
    "    pointerToCvimage = ffi.cast(\"uint8_t *\", ffi.from_buffer(image))\n",
    "    ffi.memmove(pointIn+1, pointerToCvimage, W*W*CH)\n",
    "    dmaOut.transfer(W*W, 1)\n",
    "    dmaIn.transfer(W*W*CH, 0)\n",
    "    dmaOut.wait()\n",
    "    result = np.frombuffer(c_buffer, count=W*W ,dtype=np.uint8)\n",
    "    result = result.reshape(W,W)\n",
    "    return result   "
   ]
  }
 ],
 "metadata": {
  "kernelspec": {
   "display_name": "Python 3",
   "language": "python",
   "name": "python3"
  },
  "language_info": {
   "codemirror_mode": {
    "name": "ipython",
    "version": 3
   },
   "file_extension": ".py",
   "mimetype": "text/x-python",
   "name": "python",
   "nbconvert_exporter": "python",
   "pygments_lexer": "ipython3",
   "version": "3.5.0"
  }
 },
 "nbformat": 4,
 "nbformat_minor": 2
}
